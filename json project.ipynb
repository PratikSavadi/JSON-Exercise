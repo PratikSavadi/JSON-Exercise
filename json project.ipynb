{
 "cells": [
  {
   "cell_type": "code",
   "execution_count": 2,
   "metadata": {},
   "outputs": [],
   "source": [
    "import pandas as pd\n",
    "import numpy as np\n",
    "import json\n",
    "from pandas.io.json import json_normalize\n",
    "from collections import Counter"
   ]
  },
  {
   "cell_type": "code",
   "execution_count": 3,
   "metadata": {},
   "outputs": [],
   "source": [
    "# 1. Find the 10 countries with most projects"
   ]
  },
  {
   "cell_type": "code",
   "execution_count": 4,
   "metadata": {},
   "outputs": [],
   "source": [
    "df1=pd.read_json('/home/pratik/DS/data_wrangling_json/data_wrangling_json/data/world_bank_projects.json')"
   ]
  },
  {
   "cell_type": "code",
   "execution_count": 23,
   "metadata": {},
   "outputs": [
    {
     "name": "stdout",
     "output_type": "stream",
     "text": [
      "                       countryname  docty\n",
      "0       People's Republic of China     19\n",
      "1    Socialist Republic of Vietnam     16\n",
      "2                Republic of India     16\n",
      "3            Republic of Indonesia     14\n",
      "4  People's Republic of Bangladesh     12\n",
      "5                            Nepal     12\n",
      "6                Republic of Yemen     11\n",
      "7           Republic of Mozambique     10\n",
      "8               Kingdom of Morocco     10\n",
      "9                           Africa     10\n"
     ]
    }
   ],
   "source": [
    "df2=df1.groupby('countryname')['docty'].count().sort_values( ascending=False)\n",
    "df2=df2.reset_index()\n",
    "print (df2.head(10))"
   ]
  },
  {
   "cell_type": "code",
   "execution_count": null,
   "metadata": {},
   "outputs": [],
   "source": []
  },
  {
   "cell_type": "code",
   "execution_count": null,
   "metadata": {},
   "outputs": [],
   "source": [
    "#2. Find the top 10 major project themes (using column 'mjtheme_namecode')"
   ]
  },
  {
   "cell_type": "code",
   "execution_count": 30,
   "metadata": {},
   "outputs": [
    {
     "name": "stdout",
     "output_type": "stream",
     "text": [
      "Counter({'Environment and natural resources management': 223, 'Rural development': 202, 'Human development': 197, 'Public sector governance': 184, 'Social protection and risk management': 158, 'Financial and private sector development': 130, '': 122, 'Social dev/gender/inclusion': 119, 'Trade and integration': 72, 'Urban development': 47, 'Economic management': 33, 'Rule of law': 12})\n"
     ]
    }
   ],
   "source": [
    "df2=pd.read_json('/home/pratik/DS/data_wrangling_json/data_wrangling_json/data/world_bank_projects.json')\n",
    "l1=[]\n",
    "for i in df2['mjtheme_namecode'].values:    \n",
    "    for a in i:\n",
    "        l1.append(a['name'])\n",
    "print (Counter(l1))"
   ]
  },
  {
   "cell_type": "code",
   "execution_count": 31,
   "metadata": {
    "scrolled": true
   },
   "outputs": [
    {
     "name": "stdout",
     "output_type": "stream",
     "text": [
      "  code                                   name\n",
      "0    8                      Human development\n",
      "1   11                                       \n",
      "2    1                    Economic management\n",
      "3    6  Social protection and risk management\n",
      "4    5                  Trade and integration\n"
     ]
    }
   ],
   "source": [
    "df=json.load(open('/home/pratik/DS/data_wrangling_json/data_wrangling_json/data/world_bank_projects.json'))\n",
    "df1=json_normalize(df, 'mjtheme_namecode')\n",
    "print (df1.head())"
   ]
  },
  {
   "cell_type": "code",
   "execution_count": 32,
   "metadata": {},
   "outputs": [
    {
     "name": "stdout",
     "output_type": "stream",
     "text": [
      "Environment and natural resources management    223\n",
      "Rural development                               202\n",
      "Human development                               197\n",
      "Public sector governance                        184\n",
      "Social protection and risk management           158\n",
      "Financial and private sector development        130\n",
      "                                                122\n",
      "Social dev/gender/inclusion                     119\n",
      "Trade and integration                            72\n",
      "Urban development                                47\n",
      "Name: name, dtype: int64\n"
     ]
    }
   ],
   "source": [
    "df1=df1['name'].value_counts().sort_values(ascending = False)\n",
    "print (df1.head(10))"
   ]
  },
  {
   "cell_type": "code",
   "execution_count": null,
   "metadata": {},
   "outputs": [],
   "source": []
  },
  {
   "cell_type": "code",
   "execution_count": null,
   "metadata": {},
   "outputs": [],
   "source": [
    "#3. In 2. above you will notice that some entries have only the code and the name is missing. \n",
    "#Create a dataframe with the missing names filled in."
   ]
  },
  {
   "cell_type": "code",
   "execution_count": 33,
   "metadata": {},
   "outputs": [
    {
     "name": "stdout",
     "output_type": "stream",
     "text": [
      "<class 'pandas.core.frame.DataFrame'>\n",
      "RangeIndex: 1499 entries, 0 to 1498\n",
      "Data columns (total 2 columns):\n",
      "code    1499 non-null object\n",
      "name    1499 non-null object\n",
      "dtypes: object(2)\n",
      "memory usage: 23.5+ KB\n",
      "None\n"
     ]
    }
   ],
   "source": [
    "df2=json_normalize(df, 'mjtheme_namecode')\n",
    "print (df2.info())"
   ]
  },
  {
   "cell_type": "code",
   "execution_count": 34,
   "metadata": {},
   "outputs": [],
   "source": [
    "df2['code'] = pd.to_numeric(df2['code'])"
   ]
  },
  {
   "cell_type": "code",
   "execution_count": 35,
   "metadata": {},
   "outputs": [
    {
     "name": "stdout",
     "output_type": "stream",
     "text": [
      "      code                      name\n",
      "2        1       Economic management\n",
      "88       1       Economic management\n",
      "175      1       Economic management\n",
      "204      1       Economic management\n",
      "205      1       Economic management\n",
      "220      1       Economic management\n",
      "222      1       Economic management\n",
      "223      1       Economic management\n",
      "249      1       Economic management\n",
      "357      1       Economic management\n",
      "453      1       Economic management\n",
      "454      1       Economic management\n",
      "458      1       Economic management\n",
      "497      1       Economic management\n",
      "647      1       Economic management\n",
      "648      1       Economic management\n",
      "784      1       Economic management\n",
      "803      1       Economic management\n",
      "841      1       Economic management\n",
      "900      1       Economic management\n",
      "1010     1       Economic management\n",
      "1045     1       Economic management\n",
      "1056     1       Economic management\n",
      "1057     1       Economic management\n",
      "1078     1       Economic management\n",
      "1206     1       Economic management\n",
      "1212     1       Economic management\n",
      "1218     1       Economic management\n",
      "1229     1       Economic management\n",
      "1230     1       Economic management\n",
      "1235     1       Economic management\n",
      "1257     1       Economic management\n",
      "1260     1       Economic management\n",
      "212      1                       NaN\n",
      "363      1                       NaN\n",
      "1024     1                       NaN\n",
      "1114     1                       NaN\n",
      "1437     1                       NaN\n",
      "5        2  Public sector governance\n",
      "14       2  Public sector governance\n",
      "20       2  Public sector governance\n",
      "21       2  Public sector governance\n",
      "22       2  Public sector governance\n",
      "45       2  Public sector governance\n",
      "48       2  Public sector governance\n",
      "49       2  Public sector governance\n",
      "50       2  Public sector governance\n",
      "68       2  Public sector governance\n",
      "71       2  Public sector governance\n",
      "90       2  Public sector governance\n"
     ]
    }
   ],
   "source": [
    "df3 = df2.replace('', np.nan)\n",
    "\n",
    "df3 = df3.sort_values(['code', 'name'])\n",
    "print(df3[:50])"
   ]
  },
  {
   "cell_type": "code",
   "execution_count": 36,
   "metadata": {},
   "outputs": [
    {
     "name": "stdout",
     "output_type": "stream",
     "text": [
      "      code                      name\n",
      "2        1       Economic management\n",
      "88       1       Economic management\n",
      "175      1       Economic management\n",
      "204      1       Economic management\n",
      "205      1       Economic management\n",
      "220      1       Economic management\n",
      "222      1       Economic management\n",
      "223      1       Economic management\n",
      "249      1       Economic management\n",
      "357      1       Economic management\n",
      "453      1       Economic management\n",
      "454      1       Economic management\n",
      "458      1       Economic management\n",
      "497      1       Economic management\n",
      "647      1       Economic management\n",
      "648      1       Economic management\n",
      "784      1       Economic management\n",
      "803      1       Economic management\n",
      "841      1       Economic management\n",
      "900      1       Economic management\n",
      "1010     1       Economic management\n",
      "1045     1       Economic management\n",
      "1056     1       Economic management\n",
      "1057     1       Economic management\n",
      "1078     1       Economic management\n",
      "1206     1       Economic management\n",
      "1212     1       Economic management\n",
      "1218     1       Economic management\n",
      "1229     1       Economic management\n",
      "1230     1       Economic management\n",
      "1235     1       Economic management\n",
      "1257     1       Economic management\n",
      "1260     1       Economic management\n",
      "212      1       Economic management\n",
      "363      1       Economic management\n",
      "1024     1       Economic management\n",
      "1114     1       Economic management\n",
      "1437     1       Economic management\n",
      "5        2  Public sector governance\n",
      "14       2  Public sector governance\n",
      "20       2  Public sector governance\n",
      "21       2  Public sector governance\n",
      "22       2  Public sector governance\n",
      "45       2  Public sector governance\n",
      "48       2  Public sector governance\n",
      "49       2  Public sector governance\n",
      "50       2  Public sector governance\n",
      "68       2  Public sector governance\n",
      "71       2  Public sector governance\n",
      "90       2  Public sector governance\n"
     ]
    }
   ],
   "source": [
    "df3=df3.fillna(method='ffill') # ffill is used to fill same last value as  next value\n",
    "print(df3[:50])"
   ]
  },
  {
   "cell_type": "code",
   "execution_count": 37,
   "metadata": {},
   "outputs": [
    {
     "name": "stdout",
     "output_type": "stream",
     "text": [
      "Environment and natural resources management    250\n",
      "Rural development                               216\n",
      "Human development                               210\n",
      "Public sector governance                        199\n",
      "Social protection and risk management           168\n",
      "Financial and private sector development        146\n",
      "Social dev/gender/inclusion                     130\n",
      "Trade and integration                            77\n",
      "Urban development                                50\n",
      "Economic management                              38\n",
      "Rule of law                                      15\n",
      "Name: name, dtype: int64\n"
     ]
    }
   ],
   "source": [
    "df3=df3['name'].value_counts().sort_values(ascending = False)\n",
    "print (df3)"
   ]
  },
  {
   "cell_type": "code",
   "execution_count": null,
   "metadata": {},
   "outputs": [],
   "source": []
  }
 ],
 "metadata": {
  "kernelspec": {
   "display_name": "Python 3",
   "language": "python",
   "name": "python3"
  },
  "language_info": {
   "codemirror_mode": {
    "name": "ipython",
    "version": 3
   },
   "file_extension": ".py",
   "mimetype": "text/x-python",
   "name": "python",
   "nbconvert_exporter": "python",
   "pygments_lexer": "ipython3",
   "version": "3.7.4"
  }
 },
 "nbformat": 4,
 "nbformat_minor": 2
}
